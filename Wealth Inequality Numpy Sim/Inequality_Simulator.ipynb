{
 "cells": [
  {
   "cell_type": "markdown",
   "metadata": {
    "colab_type": "text",
    "id": "GBX6v9_CdKhd"
   },
   "source": [
    "# Inequality (Due to Chance) Simulator"
   ]
  },
  {
   "cell_type": "markdown",
   "metadata": {
    "colab_type": "text",
    "id": "2sGBmqLMZQ79"
   },
   "source": [
    "First let's import our libraries. Most of this can be done in Numpy, but we'll use Matplotlib/Seaborn for a couple of visualizations."
   ]
  },
  {
   "cell_type": "code",
   "execution_count": 14,
   "metadata": {
    "colab": {},
    "colab_type": "code",
    "id": "1AXE9nEV0Pdi"
   },
   "outputs": [],
   "source": [
    "import numpy as np\n",
    "import matplotlib.pyplot as plt\n",
    "import seaborn as sb"
   ]
  },
  {
   "cell_type": "markdown",
   "metadata": {
    "colab_type": "text",
    "id": "k9Uo4QLiZY6r"
   },
   "source": [
    "We'll set up a few of the variables that can be tuned below."
   ]
  },
  {
   "cell_type": "code",
   "execution_count": 15,
   "metadata": {
    "colab": {},
    "colab_type": "code",
    "id": "J7BYQ3eu9Sxl"
   },
   "outputs": [],
   "source": [
    "# Tuning\n",
    "initial_wealth = 50000 # The initial wealth of each individual\n",
    "num_people = 100 # The number of people in our sample\n",
    "max_exchange_perc = .05 # No exchange can be more than this amount of individual's overall wealth\n",
    "num_exchanges = 500000 # The number of exhanges (simulations) to run"
   ]
  },
  {
   "cell_type": "markdown",
   "metadata": {
    "colab_type": "text",
    "id": "cFE0bt_LZjbt"
   },
   "source": [
    "The actual simulation happens in the code block below. The general logic is:\n",
    "\n",
    "1. Create an array of length `num_people` representing our sample, each with an initial wealth value of `initial_wealth`.\n",
    "2. Simulate `num_exchanges` exchanges of wealth between randoom participant pairs from our sample given the following considerations:\n",
    " * We randomly choose a pair at each iteration.\n",
    " * The maximum amount of wealth exchanged is no more than `max_exchange_perc` times the wealth of the \"poorest\" individual. That is, each exchange can only be a fraction of the lowest wealth amount in the pair.\n",
    " * The exchange value is randomly chosen (so long as it meets the consideration above).\n",
    " * We randomly choose who receives the exchanged amount and who loses the exchanged amount."
   ]
  },
  {
   "cell_type": "code",
   "execution_count": 16,
   "metadata": {
    "colab": {},
    "colab_type": "code",
    "id": "RY50XJcb0lR5"
   },
   "outputs": [],
   "source": [
    "# Create our initial array with initial wealths\n",
    "sim_array = np.full(num_people, initial_wealth, dtype=float)\n",
    "# Create an array of our indices so we can draw from this randomly\n",
    "poss_indices = np.arange(0,len(sim_array),1)\n",
    "\n",
    "# Simulate the exchanges\n",
    "for i in range(num_exchanges):\n",
    "\n",
    "    # Randomly choose our pairs\n",
    "    a, b = np.random.choice(poss_indices, size=2, replace=False)\n",
    "\n",
    "    # Set the maximum exchange value to a fraction of the lowest wealth present\n",
    "    ab_vals = max_exchange_perc * np.array([sim_array[a], sim_array[b]])\n",
    "    max_exchange = np.min(ab_vals)\n",
    "\n",
    "    # Randomly determines the wealth exchange amount noting the consideration above\n",
    "    poss_exchanges = np.linspace(0, max_exchange, num=50) # 'num' is arbitrary and only affects the resolution of possible exchange values\n",
    "    exchange_amount = np.random.choice(poss_exchanges, size=1)\n",
    "\n",
    "    # Randomly choose who \"wins\" in the exchange and add/subtract the exchange amount accordingly\n",
    "    who_loses = np.random.randint(1,2)\n",
    "    if who_loses == 1:\n",
    "        sim_array[a] = sim_array[a] - exchange_amount\n",
    "        sim_array[b] = sim_array[b] + exchange_amount\n",
    "    else:\n",
    "        sim_array[a] = sim_array[a] + exchange_amount\n",
    "        sim_array[b] = sim_array[b] - exchange_amount\n",
    "\n",
    "# Round our output array for presentation\n",
    "sim_array = np.round(sim_array, 2)"
   ]
  },
  {
   "cell_type": "markdown",
   "metadata": {
    "colab_type": "text",
    "id": "EenJJr6ebt9F"
   },
   "source": [
    "With the results in, let's do some visualization and metrics on our simulation."
   ]
  },
  {
   "cell_type": "code",
   "execution_count": 17,
   "metadata": {
    "colab": {
     "base_uri": "https://localhost:8080/",
     "height": 265
    },
    "colab_type": "code",
    "id": "GjcMrFldFMow",
    "outputId": "e98c9192-4d0a-4d97-8971-046d29294296"
   },
   "outputs": [
    {
     "data": {
      "image/png": "[encoded data removed]",
      "text/plain": [
       "<Figure size 432x288 with 1 Axes>"
      ]
     },
     "metadata": {
      "needs_background": "light"
     },
     "output_type": "display_data"
    }
   ],
   "source": [
    "# Plot a histogram of our distribution\n",
    "sb.distplot(sim_array)\n",
    "plt.show()"
   ]
  },
  {
   "cell_type": "code",
   "execution_count": 18,
   "metadata": {
    "colab": {
     "base_uri": "https://localhost:8080/",
     "height": 85
    },
    "colab_type": "code",
    "id": "zrqnvPIpIox7",
    "outputId": "a3cb1139-f210-4563-fa81-d4e54e88398a"
   },
   "outputs": [
    {
     "name": "stdout",
     "output_type": "stream",
     "text": [
      "The maximum wealth is 456354.55\n",
      "The minimum wealth is 0.18\n",
      "The average wealth is 50000.0\n",
      "The median wealth is 7123.625\n"
     ]
    }
   ],
   "source": [
    "# Print some basic statistical metrics on the distribution\n",
    "print(\"The maximum wealth is {}\".format(sim_array.max()))\n",
    "print(\"The minimum wealth is {}\".format(sim_array.min()))\n",
    "print(\"The average wealth is {}\".format(np.round(sim_array.mean(),2)))\n",
    "print(\"The median wealth is {}\".format(np.median(sim_array)))"
   ]
  },
  {
   "cell_type": "markdown",
   "metadata": {
    "colab_type": "text",
    "id": "xCUVMgmrb6wv"
   },
   "source": [
    "Let's also look at how much wealth different quantiles own in the aggregate."
   ]
  },
  {
   "cell_type": "code",
   "execution_count": 24,
   "metadata": {
    "colab": {
     "base_uri": "https://localhost:8080/",
     "height": 265
    },
    "colab_type": "code",
    "id": "NcEVpftsFnVE",
    "outputId": "5a44cf24-0f49-47df-8165-80d25aadff48"
   },
   "outputs": [
    {
     "data": {
      "image/png": "[encoded data removed]",
      "text/plain": [
       "<Figure size 720x360 with 1 Axes>"
      ]
     },
     "metadata": {
      "needs_background": "light"
     },
     "output_type": "display_data"
    }
   ],
   "source": [
    "# Creating boolean masks of which array members belong in which quantil\n",
    "top_1_perc = sim_array >= np.quantile(sim_array,.99)\n",
    "top_5_perc = sim_array >= np.quantile(sim_array,.95)\n",
    "top_25_perc = sim_array >= np.quantile(sim_array,.75)\n",
    "bottom_50_perc = sim_array < np.quantile(sim_array,.50)\n",
    "\n",
    "# The total wealth from all individuals (to be used for percentages)\n",
    "total_wealth = sim_array.sum()\n",
    "\n",
    "# The aggregated wealth of individuals in each quantile (using the masks from above)\n",
    "top_1_wealth = sim_array[top_1_perc].sum() / total_wealth * 100\n",
    "top_5_wealth = sim_array[top_5_perc].sum() / total_wealth * 100\n",
    "top_25_wealth = sim_array[top_25_perc].sum() / total_wealth * 100\n",
    "bottom_50_wealth = sim_array[bottom_50_perc].sum() / total_wealth * 100\n",
    "\n",
    "# And finally plot a bar plot of those results\n",
    "plt.figure(figsize=(10, 5))\n",
    "sb.barplot(x=[\"Top 1%\", \"Top 5%\", \"Top 25%\", \"Bottom 50%\"],\n",
    "           y=[top_1_wealth, top_5_wealth, top_25_wealth, bottom_50_wealth], palette=\"Blues_d\")\n",
    "plt.title('Wealth Percentage by Group (After {}K Transactions)'.format(int(num_exchanges/1000)))\n",
    "plt.ylabel('Percent of Total Wealth')\n",
    "plt.show()"
   ]
  },
  {
   "cell_type": "code",
   "execution_count": null,
   "metadata": {},
   "outputs": [],
   "source": []
  }
 ],
 "metadata": {
  "colab": {
   "collapsed_sections": [],
   "name": "Inequality Simulator.ipynb",
   "provenance": []
  },
  "kernelspec": {
   "display_name": "Python 3",
   "language": "python",
   "name": "python3"
  },
  "language_info": {
   "codemirror_mode": {
    "name": "ipython",
    "version": 3
   },
   "file_extension": ".py",
   "mimetype": "text/x-python",
   "name": "python",
   "nbconvert_exporter": "python",
   "pygments_lexer": "ipython3",
   "version": "3.7.6"
  }
 },
 "nbformat": 4,
 "nbformat_minor": 1
}
