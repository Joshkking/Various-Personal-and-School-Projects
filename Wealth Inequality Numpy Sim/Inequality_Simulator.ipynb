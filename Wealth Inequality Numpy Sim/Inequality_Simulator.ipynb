{
  "nbformat": 4,
  "nbformat_minor": 0,
  "metadata": {
    "colab": {
      "name": "Inequality Simulator.ipynb",
      "provenance": [],
      "collapsed_sections": []
    },
    "kernelspec": {
      "name": "python3",
      "display_name": "Python 3"
    }
  },
  "cells": [
    {
      "cell_type": "markdown",
      "metadata": {
        "id": "GBX6v9_CdKhd",
        "colab_type": "text"
      },
      "source": [
        "# Inequality (Due to Chance) Simulator"
      ]
    },
    {
      "cell_type": "markdown",
      "metadata": {
        "id": "2sGBmqLMZQ79",
        "colab_type": "text"
      },
      "source": [
        "First let's import our libraries. Most of this can be done in Numpy, but we'll use Matplotlib/Seaborn for a couple of visualizations."
      ]
    },
    {
      "cell_type": "code",
      "metadata": {
        "id": "1AXE9nEV0Pdi",
        "colab_type": "code",
        "colab": {}
      },
      "source": [
        "import numpy as np\n",
        "import matplotlib.pyplot as plt\n",
        "import seaborn as sb"
      ],
      "execution_count": 0,
      "outputs": []
    },
    {
      "cell_type": "markdown",
      "metadata": {
        "id": "k9Uo4QLiZY6r",
        "colab_type": "text"
      },
      "source": [
        "We'll set up a few of the variables that can be tuned below."
      ]
    },
    {
      "cell_type": "code",
      "metadata": {
        "id": "J7BYQ3eu9Sxl",
        "colab_type": "code",
        "colab": {}
      },
      "source": [
        "# Tuning\n",
        "initial_wealth = 50000 # The initial wealth of each individual\n",
        "num_people = 100 # The number of people in our sample\n",
        "max_exchange_perc = .05 # No exchange can be more than this amount of individual's overall wealth\n",
        "num_exchanges = 100000 # The number of exhanges (simulations) to run"
      ],
      "execution_count": 0,
      "outputs": []
    },
    {
      "cell_type": "markdown",
      "metadata": {
        "id": "cFE0bt_LZjbt",
        "colab_type": "text"
      },
      "source": [
        "The actual simulation happens in the code block below. The general logic is:\n",
        "\n",
        "1. Create an array of length `num_people` representing our sample, each with an initial wealth value of `initial_wealth`.\n",
        "2. Simulate `num_exchanges` exchanges of wealth between randoom participant pairs from our sample given the following considerations:\n",
        " * We randomly choose a pair at each iteration.\n",
        " * The maximum amount of wealth exchanged is no more than `max_exchange_perc` times the wealth of the \"poorest\" individual. That is, each exchange can only be a fraction of the lowest wealth amount in the pair.\n",
        " * The exchange value is randomly chosen (so long as it meets the consideration above).\n",
        " * We randomly choose who receives the exchanged amount and who loses the exchanged amount."
      ]
    },
    {
      "cell_type": "code",
      "metadata": {
        "id": "RY50XJcb0lR5",
        "colab_type": "code",
        "colab": {}
      },
      "source": [
        "# Create our initial array with initial wealths\n",
        "sim_array = np.full(num_people, initial_wealth, dtype=float)\n",
        "# Create an array of our indices so we can draw from this randomly\n",
        "poss_indices = np.arange(0,len(sim_array),1)\n",
        "\n",
        "# Simulate the exchanges\n",
        "for i in range(num_exchanges):\n",
        "\n",
        "  # Randomly choose our pairs\n",
        "  a, b = np.random.choice(poss_indices, size=2, replace=False)\n",
        "\n",
        "  # Set the maximum exchange value to a fraction of the lowest wealth present\n",
        "  ab_vals = max_exchange_perc * np.array([sim_array[a], sim_array[b]])\n",
        "  max_exchange = np.min(ab_vals)\n",
        "\n",
        "  # Randomly determines the wealth exchange amount noting the consideration above\n",
        "  poss_exchanges = np.linspace(0, max_exchange, num=50) # 'num' is arbitrary and only affects the resolution of possible exchange values\n",
        "  exchange_amount = np.random.choice(poss_exchanges, size=1)\n",
        "\n",
        "  # Randomly choose who \"wins\" in the exchange and add/subtract the exchange amount accordingly\n",
        "  who_loses = np.random.randint(1,2)\n",
        "  if who_loses == 1:\n",
        "    sim_array[a] = sim_array[a] - exchange_amount\n",
        "    sim_array[b] = sim_array[b] + exchange_amount\n",
        "  else:\n",
        "    sim_array[a] = sim_array[a] + exchange_amount\n",
        "    sim_array[b] = sim_array[b] - exchange_amount\n",
        "\n",
        "# Round our output array for presentation\n",
        "sim_array = np.round(sim_array, 2)"
      ],
      "execution_count": 0,
      "outputs": []
    },
    {
      "cell_type": "markdown",
      "metadata": {
        "id": "EenJJr6ebt9F",
        "colab_type": "text"
      },
      "source": [
        "With the results in, let's do some visualization and metrics on our simulation."
      ]
    },
    {
      "cell_type": "code",
      "metadata": {
        "id": "GjcMrFldFMow",
        "colab_type": "code",
        "outputId": "e98c9192-4d0a-4d97-8971-046d29294296",
        "colab": {
          "base_uri": "https://localhost:8080/",
          "height": 265
        }
      },
      "source": [
        "# Plot a histogram of our distribution\n",
        "sb.distplot(sim_array)\n",
        "plt.show()"
      ],
      "execution_count": 16,
      "outputs": [
        {
          "output_type": "display_data",
          "data": {
            "image/png": "[encoded data removed]",
            "text/plain": [
              "<Figure size 432x288 with 1 Axes>"
            ]
          },
          "metadata": {
            "tags": []
          }
        }
      ]
    },
    {
      "cell_type": "code",
      "metadata": {
        "id": "zrqnvPIpIox7",
        "colab_type": "code",
        "outputId": "a3cb1139-f210-4563-fa81-d4e54e88398a",
        "colab": {
          "base_uri": "https://localhost:8080/",
          "height": 85
        }
      },
      "source": [
        "# Print some basic statistical metrics on the distribution\n",
        "print(\"The maximum wealth is {}\".format(sim_array.max()))\n",
        "print(\"The minimum wealth is {}\".format(sim_array.min()))\n",
        "print(\"The average wealth is {}\".format(np.round(sim_array.mean(),2)))\n",
        "print(\"The median wealth is {}\".format(np.median(sim_array)))"
      ],
      "execution_count": 17,
      "outputs": [
        {
          "output_type": "stream",
          "text": [
            "The maximum wealth is 202685.9\n",
            "The minimum wealth is 615.64\n",
            "The average wealth is 50000.0\n",
            "The median wealth is 42373.835\n"
          ],
          "name": "stdout"
        }
      ]
    },
    {
      "cell_type": "markdown",
      "metadata": {
        "id": "xCUVMgmrb6wv",
        "colab_type": "text"
      },
      "source": [
        "Let's also look at how much wealth different quantiles own in the aggregate."
      ]
    },
    {
      "cell_type": "code",
      "metadata": {
        "id": "NcEVpftsFnVE",
        "colab_type": "code",
        "outputId": "5a44cf24-0f49-47df-8165-80d25aadff48",
        "colab": {
          "base_uri": "https://localhost:8080/",
          "height": 265
        }
      },
      "source": [
        "# Creating boolean masks of which array members belong in which quantil\n",
        "top_1_perc = sim_array > np.quantile(sim_array,.99)\n",
        "top_5_perc = sim_array > np.quantile(sim_array,.95)\n",
        "top_25_perc = sim_array > np.quantile(sim_array,.75)\n",
        "bottom_50_perc = sim_array < np.quantile(sim_array,.50)\n",
        "\n",
        "# The total wealth from all individuals (to be used for percentages)\n",
        "total_wealth = sim_array.sum()\n",
        "\n",
        "# The aggregated wealth of individuals in each quantile (using the masks from above)\n",
        "top_1_wealth = sim_array[top_1_perc].sum() / total_wealth * 100\n",
        "top_5_wealth = sim_array[top_5_perc].sum() / total_wealth * 100\n",
        "top_25_wealth = sim_array[top_25_perc].sum() / total_wealth * 100\n",
        "bottom_50_wealth = sim_array[bottom_50_perc].sum() / total_wealth * 100\n",
        "\n",
        "# And finally plot a bar plot of those results\n",
        "sb.barplot(x=[\"Top 1%\", \"Top 5%\", \"Top 25%\", \"Bottom 50%\"],\n",
        "           y=[top_1_wealth, top_5_wealth, top_25_wealth, bottom_50_wealth])\n",
        "plt.show()"
      ],
      "execution_count": 18,
      "outputs": [
        {
          "output_type": "display_data",
          "data": {
            "image/png": "[encoded data removed]",
            "text/plain": [
              "<Figure size 432x288 with 1 Axes>"
            ]
          },
          "metadata": {
            "tags": []
          }
        }
      ]
    }
  ]
}